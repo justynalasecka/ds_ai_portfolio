{
 "cells": [
  {
   "cell_type": "markdown",
   "id": "498b01fd-77a9-47fd-beae-3542cc295ee0",
   "metadata": {
    "editable": true,
    "slideshow": {
     "slide_type": "slide"
    },
    "tags": []
   },
   "source": [
    "# **ANALIZA IRYSÓW**"
   ]
  },
  {
   "cell_type": "markdown",
   "id": "b5053fd1-477c-400f-a2aa-a45d9d8c4cbb",
   "metadata": {
    "editable": true,
    "slideshow": {
     "slide_type": "slide"
    },
    "tags": []
   },
   "source": [
    "# **1. Informacje o danych**"
   ]
  },
  {
   "cell_type": "code",
   "execution_count": 1,
   "id": "c79eab87-cd3b-468c-bf65-152cf87cc92d",
   "metadata": {
    "editable": true,
    "slideshow": {
     "slide_type": "skip"
    },
    "tags": []
   },
   "outputs": [],
   "source": [
    "import pandas as pd\n",
    "import matplotlib.pyplot as plt\n",
    "import seaborn as sns\n",
    "from IPython.display import Markdown, display"
   ]
  },
  {
   "cell_type": "code",
   "execution_count": 2,
   "id": "7b6e9e4a-7b3b-4ba4-96c4-bfe91f30c9e4",
   "metadata": {
    "editable": true,
    "slideshow": {
     "slide_type": "skip"
    },
    "tags": []
   },
   "outputs": [],
   "source": [
    "df = pd.read_csv('25__iris.csv', sep=\",\")\n",
    "df.rename(columns={\n",
    "    'długość kielicha (sepal length)': 'długość kielicha',\n",
    "    'szerokość kielicha (sepal width)': 'szerokość kielicha',\n",
    "    'długość płatka (petal length)': 'długość płatka',\n",
    "    'szerokość płatka (petal width)': 'szerokość płatka',\n",
    "    'klasa (class)': 'gatunek',\n",
    "}, inplace=True)"
   ]
  },
  {
   "cell_type": "code",
   "execution_count": 3,
   "id": "a70657f6-2945-4134-ad25-d68fdafa35ec",
   "metadata": {
    "editable": true,
    "slideshow": {
     "slide_type": "slide"
    },
    "tags": []
   },
   "outputs": [
    {
     "data": {
      "text/markdown": [
       "\n",
       "### Dane zawierają **150** wierszy i **5** kolumn.\n"
      ],
      "text/plain": [
       "<IPython.core.display.Markdown object>"
      ]
     },
     "execution_count": 3,
     "metadata": {},
     "output_type": "execute_result"
    }
   ],
   "source": [
    "Markdown(f\"\"\"\n",
    "### Dane zawierają **{len(df)}** wierszy i **{len(df.columns)}** kolumn.\n",
    "\"\"\")"
   ]
  },
  {
   "cell_type": "code",
   "execution_count": 4,
   "id": "3466e35d-a411-4341-9cef-fe9bde1b3bd0",
   "metadata": {
    "editable": true,
    "slideshow": {
     "slide_type": "slide"
    },
    "tags": []
   },
   "outputs": [
    {
     "data": {
      "text/markdown": [
       "\n",
       "### Dane dotyczą **3** gatunków irysów :\n",
       "Iris-setosa, Iris-versicolor, Iris-virginica.\n"
      ],
      "text/plain": [
       "<IPython.core.display.Markdown object>"
      ]
     },
     "execution_count": 4,
     "metadata": {},
     "output_type": "execute_result"
    }
   ],
   "source": [
    "amount_of_gatunek = df['gatunek'].nunique()\n",
    "unique_gatunek = df['gatunek'].unique()\n",
    "\n",
    "Markdown(f\"\"\"\n",
    "### Dane dotyczą **{amount_of_gatunek}** gatunków irysów :\n",
    "{', '.join(unique_gatunek)}.\n",
    "\"\"\")"
   ]
  },
  {
   "cell_type": "markdown",
   "id": "18e9e53f-ab74-47f5-ade2-1b0c2425af52",
   "metadata": {
    "editable": true,
    "slideshow": {
     "slide_type": "slide"
    },
    "tags": []
   },
   "source": [
    " ### Większość kolumn zawiera wartości liczbowe wyrażone w centymetrach"
   ]
  },
  {
   "cell_type": "code",
   "execution_count": 5,
   "id": "8a94b4f0-f5c7-4811-8c93-caa4c5180ee0",
   "metadata": {
    "editable": true,
    "slideshow": {
     "slide_type": "fragment"
    },
    "tags": []
   },
   "outputs": [
    {
     "data": {
      "text/html": [
       "<style type=\"text/css\">\n",
       "</style>\n",
       "<table id=\"T_9ef21\">\n",
       "  <thead>\n",
       "    <tr>\n",
       "      <th id=\"T_9ef21_level0_col0\" class=\"col_heading level0 col0\" >długość kielicha</th>\n",
       "      <th id=\"T_9ef21_level0_col1\" class=\"col_heading level0 col1\" >szerokość kielicha</th>\n",
       "      <th id=\"T_9ef21_level0_col2\" class=\"col_heading level0 col2\" >długość płatka</th>\n",
       "      <th id=\"T_9ef21_level0_col3\" class=\"col_heading level0 col3\" >szerokość płatka</th>\n",
       "      <th id=\"T_9ef21_level0_col4\" class=\"col_heading level0 col4\" >gatunek</th>\n",
       "    </tr>\n",
       "  </thead>\n",
       "  <tbody>\n",
       "    <tr>\n",
       "      <td id=\"T_9ef21_row0_col0\" class=\"data row0 col0\" >5.6</td>\n",
       "      <td id=\"T_9ef21_row0_col1\" class=\"data row0 col1\" >3.0</td>\n",
       "      <td id=\"T_9ef21_row0_col2\" class=\"data row0 col2\" >4.1</td>\n",
       "      <td id=\"T_9ef21_row0_col3\" class=\"data row0 col3\" >1.3</td>\n",
       "      <td id=\"T_9ef21_row0_col4\" class=\"data row0 col4\" >Iris-versicolor</td>\n",
       "    </tr>\n",
       "    <tr>\n",
       "      <td id=\"T_9ef21_row1_col0\" class=\"data row1 col0\" >6.3</td>\n",
       "      <td id=\"T_9ef21_row1_col1\" class=\"data row1 col1\" >2.5</td>\n",
       "      <td id=\"T_9ef21_row1_col2\" class=\"data row1 col2\" >4.9</td>\n",
       "      <td id=\"T_9ef21_row1_col3\" class=\"data row1 col3\" >1.5</td>\n",
       "      <td id=\"T_9ef21_row1_col4\" class=\"data row1 col4\" >Iris-versicolor</td>\n",
       "    </tr>\n",
       "    <tr>\n",
       "      <td id=\"T_9ef21_row2_col0\" class=\"data row2 col0\" >5.4</td>\n",
       "      <td id=\"T_9ef21_row2_col1\" class=\"data row2 col1\" >3.4</td>\n",
       "      <td id=\"T_9ef21_row2_col2\" class=\"data row2 col2\" >1.7</td>\n",
       "      <td id=\"T_9ef21_row2_col3\" class=\"data row2 col3\" >0.2</td>\n",
       "      <td id=\"T_9ef21_row2_col4\" class=\"data row2 col4\" >Iris-setosa</td>\n",
       "    </tr>\n",
       "    <tr>\n",
       "      <td id=\"T_9ef21_row3_col0\" class=\"data row3 col0\" >5.4</td>\n",
       "      <td id=\"T_9ef21_row3_col1\" class=\"data row3 col1\" >3.9</td>\n",
       "      <td id=\"T_9ef21_row3_col2\" class=\"data row3 col2\" >1.3</td>\n",
       "      <td id=\"T_9ef21_row3_col3\" class=\"data row3 col3\" >0.4</td>\n",
       "      <td id=\"T_9ef21_row3_col4\" class=\"data row3 col4\" >Iris-setosa</td>\n",
       "    </tr>\n",
       "    <tr>\n",
       "      <td id=\"T_9ef21_row4_col0\" class=\"data row4 col0\" >6.5</td>\n",
       "      <td id=\"T_9ef21_row4_col1\" class=\"data row4 col1\" >3.0</td>\n",
       "      <td id=\"T_9ef21_row4_col2\" class=\"data row4 col2\" >5.2</td>\n",
       "      <td id=\"T_9ef21_row4_col3\" class=\"data row4 col3\" >2.0</td>\n",
       "      <td id=\"T_9ef21_row4_col4\" class=\"data row4 col4\" >Iris-virginica</td>\n",
       "    </tr>\n",
       "  </tbody>\n",
       "</table>\n"
      ],
      "text/plain": [
       "<pandas.io.formats.style.Styler at 0x22c0bbfd350>"
      ]
     },
     "execution_count": 5,
     "metadata": {},
     "output_type": "execute_result"
    }
   ],
   "source": [
    "sample_df = df.sample(5, random_state=50)\n",
    "(\n",
    "    sample_df[[\"długość kielicha\", \"szerokość kielicha\", \"długość płatka\", \"szerokość płatka\", \"gatunek\"]]\n",
    "    .style\n",
    "    .format(precision=1)\n",
    "    .hide(axis=\"index\")\n",
    ")"
   ]
  },
  {
   "cell_type": "code",
   "execution_count": null,
   "id": "7382295e-1fd1-4084-b6d2-723e396874ab",
   "metadata": {
    "editable": true,
    "jupyter": {
     "source_hidden": true
    },
    "scrolled": true,
    "slideshow": {
     "slide_type": "skip"
    },
    "tags": []
   },
   "outputs": [],
   "source": [
    "df[\"gatunek\"].value_counts()"
   ]
  },
  {
   "cell_type": "code",
   "execution_count": null,
   "id": "1d4d11eb-bd6b-4aa2-b067-81b96a2ec3c7",
   "metadata": {
    "editable": true,
    "jupyter": {
     "source_hidden": true
    },
    "scrolled": true,
    "slideshow": {
     "slide_type": "skip"
    },
    "tags": []
   },
   "outputs": [],
   "source": [
    "df[df.duplicated()]"
   ]
  },
  {
   "cell_type": "code",
   "execution_count": null,
   "id": "f135a07f-8eef-4438-bd05-4d2874b269ef",
   "metadata": {
    "editable": true,
    "jupyter": {
     "source_hidden": true
    },
    "slideshow": {
     "slide_type": "skip"
    },
    "tags": []
   },
   "outputs": [],
   "source": [
    "df.nunique()"
   ]
  },
  {
   "cell_type": "code",
   "execution_count": 6,
   "id": "067e6a18-1398-4616-a6d5-423368649071",
   "metadata": {
    "editable": true,
    "slideshow": {
     "slide_type": "slide"
    },
    "tags": []
   },
   "outputs": [
    {
     "data": {
      "text/markdown": [
       "### Próbki każdego z gatunków liczą po:\n",
       "- **Iris-setosa**: 50 przypadków\n",
       "- **Iris-versicolor**: 50 przypadków\n",
       "- **Iris-virginica**: 50 przypadków\n"
      ],
      "text/plain": [
       "<IPython.core.display.Markdown object>"
      ]
     },
     "execution_count": 6,
     "metadata": {},
     "output_type": "execute_result"
    }
   ],
   "source": [
    "counts = df['gatunek'].value_counts()\n",
    "\n",
    "markdown_text = \"### Próbki każdego z gatunków liczą po:\\n\"\n",
    "\n",
    "for species, count in counts.items():\n",
    "    markdown_text += f\"- **{species}**: {count} przypadków\\n\"\n",
    "\n",
    "Markdown(markdown_text)"
   ]
  },
  {
   "cell_type": "markdown",
   "id": "d0fd56cd-aa97-4597-bc90-4b1c23650644",
   "metadata": {
    "editable": true,
    "slideshow": {
     "slide_type": "slide"
    },
    "tags": []
   },
   "source": [
    "### Wnioski\n",
    "- dane są **pełne** (nie posiadają braków),\n",
    "- możliwe duplikaty, ale raczej są to te same parametry zaobserwowane w próbce danych."
   ]
  },
  {
   "cell_type": "markdown",
   "id": "90419b3a-86ce-4ad2-ab9b-1e6e025634ec",
   "metadata": {
    "editable": true,
    "slideshow": {
     "slide_type": "slide"
    },
    "tags": []
   },
   "source": [
    "## Irys setosa"
   ]
  },
  {
   "cell_type": "markdown",
   "id": "cb4e4bd8-ec91-403d-9de3-98bad2312715",
   "metadata": {
    "editable": true,
    "slideshow": {
     "slide_type": "fragment"
    },
    "tags": []
   },
   "source": [
    "#### To niska lecz bardzo urokliwa odmiana kosaćca. Dorasta do 30 centymetrów wysokości i tworzy kępy o podobnej szerokości. Kwiat dość ciekawy pojawia się w czerwcu. Płatki fioletowe z wyraźnym żyłkowaniem. Jest łatwy w uprawie, najlepiej pasuje mu gleba żyzna próchnicza. Lubi stanowisko słoneczne, da sobie radę w półcieniu ale kwitnie będzie mniej obfite. Jest w pełni mrozoodporny. Ze względu na swą wysokość, świetnie nadaje się na obrzeża rabat [(źródło)](https://roslinoholicy.pl/shop/irys-setosa/)."
   ]
  },
  {
   "cell_type": "markdown",
   "id": "e8ba03cc-5b99-4448-b928-e6cc992b079d",
   "metadata": {
    "editable": true,
    "slideshow": {
     "slide_type": "fragment"
    },
    "tags": []
   },
   "source": [
    "![Irys setosa](https://upload.wikimedia.org/wikipedia/commons/a/a7/Irissetosa1.jpg)"
   ]
  },
  {
   "cell_type": "markdown",
   "id": "87a4de1a-a444-48df-84d8-49c75119706e",
   "metadata": {
    "editable": true,
    "slideshow": {
     "slide_type": "slide"
    },
    "tags": []
   },
   "source": [
    "## Irys versicolor"
   ]
  },
  {
   "cell_type": "markdown",
   "id": "afb3d5c7-57bf-4685-a237-e29908439818",
   "metadata": {
    "editable": true,
    "slideshow": {
     "slide_type": "fragment"
    },
    "tags": []
   },
   "source": [
    "#### To rzadko spotykana odmiana, dorastająca docelowo do około 70 cm wysokości. Jej młode pędy mają niezwykle dekoracyjny, fioletowy kolor. Kosaciec ma niebieskie kwiatostany i kwitnie na przełomie maja i czerwca. Roślina tworzy okazałe kępy. Najlepiej rośnie w glebie żyznej i wilgotnej. Najpiękniej prezentuje się nad brzegami oczek wodnych oraz w towarzystwie piwoni. Warto go sadzić w miejscach wypoczynkowych, ponieważ roślina przyciąga motyle. Jest całkowicie odporna na mróz w naszym klimacie [(źródło)](https://hortensje.pl/kosaciec-roznobarwny-iris-versicolor)."
   ]
  },
  {
   "cell_type": "markdown",
   "id": "e6466486-4a41-46af-8130-1fb44e4c47d4",
   "metadata": {
    "editable": true,
    "slideshow": {
     "slide_type": "fragment"
    },
    "tags": []
   },
   "source": [
    "![Irys versicolor](https://upload.wikimedia.org/wikipedia/commons/4/41/Iris_versicolor_3.jpg)"
   ]
  },
  {
   "cell_type": "markdown",
   "id": "8668565a-252d-4247-a0fb-17039a45825d",
   "metadata": {
    "editable": true,
    "slideshow": {
     "slide_type": "slide"
    },
    "tags": []
   },
   "source": [
    "## Irys virginica"
   ]
  },
  {
   "cell_type": "markdown",
   "id": "1ee05ab4-2d15-4dc5-8fc5-af7889bcc6cc",
   "metadata": {
    "editable": true,
    "slideshow": {
     "slide_type": "fragment"
    },
    "tags": []
   },
   "source": [
    "#### To gatunek rośliny pochodzący z południowych terenów podmokłych, występujący od Wirginii po Florydę i Teksas. Ma 90 cm wysokości i jasnozielone liście, które często leżą na ziemi lub w wodzie [(źródło)](https://www.wildflower.org/plants/result.php?id_plant=irvi)."
   ]
  },
  {
   "cell_type": "markdown",
   "id": "21455822-47ee-4955-a460-bc5ccc1d9840",
   "metadata": {
    "editable": true,
    "slideshow": {
     "slide_type": "fragment"
    },
    "tags": []
   },
   "source": [
    "![Irys virginica](https://upload.wikimedia.org/wikipedia/commons/thumb/f/f8/Iris_virginica_2.jpg/1920px-Iris_virginica_2.jpg)"
   ]
  },
  {
   "cell_type": "markdown",
   "id": "531a48d0-2b77-4642-9ce8-af9020b91881",
   "metadata": {
    "editable": true,
    "slideshow": {
     "slide_type": "slide"
    },
    "tags": []
   },
   "source": [
    "# **2. Podstawowe statystyki**"
   ]
  },
  {
   "cell_type": "code",
   "execution_count": null,
   "id": "40cdc01f-ff87-4c75-aed4-6caf84028524",
   "metadata": {
    "editable": true,
    "jupyter": {
     "source_hidden": true
    },
    "slideshow": {
     "slide_type": ""
    },
    "tags": []
   },
   "outputs": [],
   "source": [
    "def koloruj_min_max_mean(df):\n",
    "    \"\"\"\n",
    "    Koloruje minimalne (niebieskie tło) i maksymalne (czerwone tło) wartości średnie w DataFrame, zaokrągla do 1 miejsca po przecinku i dodaje linie siatki.\n",
    "    \"\"\"\n",
    "    def koloruj_min(s):\n",
    "        return ['background-color: lightblue' if v == s.min() else '' for v in s]\n",
    "\n",
    "    def koloruj_max(s):\n",
    "        return ['background-color: lightcoral' if v == s.max() else '' for v in s]\n",
    "\n",
    "    styled_df = df.style.format(precision=1)\\\n",
    "        .apply(koloruj_min, subset=pd.IndexSlice[:, df.columns.get_level_values(1) == 'mean'])\\\n",
    "        .apply(koloruj_max, subset=pd.IndexSlice[:, df.columns.get_level_values(1) == 'mean'])\\\n",
    "        .set_table_styles([{'selector': 'th, td', 'props': [('border', '1px solid black')]}])\n",
    "    return styled_df\n",
    "\n",
    "# Załóżmy, że masz już DataFrame o nazwie df\n",
    "\n",
    "grouped_df = df.groupby('gatunek').agg({\n",
    "    'długość kielicha': ['mean', 'median', 'std', 'min', 'max'],\n",
    "    'szerokość kielicha': ['mean', 'median', 'std', 'min', 'max'],\n",
    "    'długość płatka': ['mean', 'median', 'std', 'min', 'max'],\n",
    "    'szerokość płatka': ['mean', 'median', 'std', 'min', 'max']\n",
    "})\n",
    "\n",
    "# Podział DataFrame na dwie części\n",
    "kielich_df = grouped_df[['długość kielicha', 'szerokość kielicha']]\n",
    "platek_df = grouped_df[['długość płatka', 'szerokość płatka']]\n",
    "\n",
    "# Stylizacja i wyświetlanie obu części\n",
    "display(koloruj_min_max_mean(kielich_df))\n",
    "display(koloruj_min_max_mean(platek_df))\n"
   ]
  },
  {
   "cell_type": "code",
   "execution_count": 7,
   "id": "d5146ed2-cdb8-4c1d-88cc-ed265548bfed",
   "metadata": {
    "editable": true,
    "slideshow": {
     "slide_type": "slide"
    },
    "tags": []
   },
   "outputs": [
    {
     "data": {
      "image/png": "[encoded data removed]",
      "text/plain": [
       "<Figure size 1200x700 with 1 Axes>"
      ]
     },
     "metadata": {},
     "output_type": "display_data"
    }
   ],
   "source": [
    "grouped_df = df.groupby('gatunek').mean()\n",
    "\n",
    "# Ustawienie stylu seaborn i kolorów\n",
    "sns.set_style(\"whitegrid\")\n",
    "colors = sns.color_palette(\"viridis\", len(grouped_df.columns))\n",
    "\n",
    "# Konwersja indeksu na listę\n",
    "labels = grouped_df.index.tolist()\n",
    "\n",
    "ax = grouped_df.plot(kind='bar', figsize=(12, 7), color=colors)\n",
    "\n",
    "plt.title('Średnie wartości cech pogrupowane wg gatunku', fontsize=16)\n",
    "plt.xlabel('')\n",
    "plt.ylabel('Średnia wartość w [cm]', fontsize=12)\n",
    "plt.xticks(range(len(labels)), labels, rotation=0, fontsize=10)\n",
    "plt.yticks(fontsize=10)\n",
    "\n",
    "# Umieszczenie legendy na dole z mniejszą przestrzenią\n",
    "plt.legend(loc='lower center', bbox_to_anchor=(0.5, -0.15), ncol=4, fontsize=10)\n",
    "\n",
    "# Dodanie strzałki i opisu dla \"szerokość kielicha\" w \"Iris-setosa\"\n",
    "iris_setosa_index = labels.index('Iris-setosa')\n",
    "ax.annotate('najwyższy parametr\\nspośród badanych gatunków',\n",
    "            xy=(iris_setosa_index - 0.04, grouped_df.loc['Iris-setosa', 'szerokość kielicha']),\n",
    "            xytext=(iris_setosa_index, grouped_df.loc['Iris-setosa', 'szerokość kielicha'] + 0.5),\n",
    "            arrowprops=dict(facecolor='black', shrink=0.05),\n",
    "            horizontalalignment='center',\n",
    "            verticalalignment='bottom',\n",
    "            rotation=90)\n",
    "\n",
    "plt.tight_layout()\n",
    "plt.savefig('bar_chart_legend_closer.png')\n",
    "plt.show()"
   ]
  },
  {
   "cell_type": "code",
   "execution_count": null,
   "id": "50e17e06-0428-4277-810c-713dcd9ceb59",
   "metadata": {
    "editable": true,
    "jupyter": {
     "source_hidden": true
    },
    "scrolled": true,
    "slideshow": {
     "slide_type": ""
    },
    "tags": []
   },
   "outputs": [],
   "source": [
    "df.plot(kind='box', by='gatunek', figsize=(20,10), grid=True)"
   ]
  },
  {
   "cell_type": "markdown",
   "id": "8775d95b-6c9d-416c-8bdd-eed7281651a6",
   "metadata": {
    "editable": true,
    "slideshow": {
     "slide_type": "fragment"
    },
    "tags": []
   },
   "source": [
    "### Wnioski\n",
    "1. Spośród 4 badanych cech, gatunek **setosa** wyróżnia się **trzema minimami** dla wartości średnich - długość kielicha (5,0 cm), długość płatka (1,5 cm) i szerokość płatka (0,2 cm); oraz **jednym maksimum** - szerokość kielicha (3,4 cm). \n",
    "2. Gatunek **virginica** cechuje się **najwyższymi wartościami średnimi w 3 parametrach** - długość kielicha (6,6 cm), długość płatka (5,6 cm) i szerokość płatka (2,0 cm)."
   ]
  },
  {
   "cell_type": "markdown",
   "id": "0afeef77-375e-4f25-b55a-a4b6804327ce",
   "metadata": {
    "editable": true,
    "slideshow": {
     "slide_type": "slide"
    },
    "tags": []
   },
   "source": [
    "## Zbadano korelacje między poszczególnymi cechami kwiatów."
   ]
  },
  {
   "cell_type": "markdown",
   "id": "90ca65f5-1982-4c70-a990-de65d9a7589b",
   "metadata": {
    "editable": true,
    "slideshow": {
     "slide_type": "fragment"
    },
    "tags": []
   },
   "source": [
    "### W wyniku czego wykryto dwie dodatnie korelacje."
   ]
  },
  {
   "cell_type": "code",
   "execution_count": null,
   "id": "d0606a75-bf42-4f14-8133-c804195f0ef9",
   "metadata": {
    "editable": true,
    "jupyter": {
     "source_hidden": true
    },
    "slideshow": {
     "slide_type": "skip"
    },
    "tags": []
   },
   "outputs": [],
   "source": [
    "sns.scatterplot(data=df, x='długość kielicha', y='szerokość kielicha', hue='gatunek')\n",
    "plt.show()"
   ]
  },
  {
   "cell_type": "code",
   "execution_count": null,
   "id": "fe504571-2bd2-4af9-9960-6c95e7d7c1cd",
   "metadata": {
    "editable": true,
    "jupyter": {
     "source_hidden": true
    },
    "slideshow": {
     "slide_type": "skip"
    },
    "tags": []
   },
   "outputs": [],
   "source": [
    "df[[\"długość kielicha\", \"szerokość kielicha\"]].corr()"
   ]
  },
  {
   "cell_type": "code",
   "execution_count": 8,
   "id": "c4386672-70de-44bb-87aa-826731997f0c",
   "metadata": {
    "editable": true,
    "slideshow": {
     "slide_type": "slide"
    },
    "tags": []
   },
   "outputs": [
    {
     "data": {
      "image/png": "[encoded data removed]",
      "text/plain": [
       "<Figure size 640x480 with 1 Axes>"
      ]
     },
     "metadata": {},
     "output_type": "display_data"
    }
   ],
   "source": [
    "kolory = {'Iris-setosa': 'skyblue', 'Iris-versicolor': 'lightcoral', 'Iris-virginica': 'mediumseagreen'}\n",
    "\n",
    "for gatunek in df['gatunek'].unique():\n",
    "    gatunek_df = df[df['gatunek'] == gatunek]\n",
    "    plt.scatter(gatunek_df['długość płatka'], gatunek_df['szerokość płatka'], label=gatunek, color=kolory[gatunek])\n",
    "\n",
    "# Rysowanie linii regresji dla całego zbioru\n",
    "sns.regplot(x='długość płatka', y='szerokość płatka', data=df, scatter=False, color='black')\n",
    "\n",
    "plt.title('Regresja liniowa między długością a szerokością płatka (wg gatunku)')\n",
    "plt.xlabel('długość płatka')\n",
    "plt.ylabel('szerokość płatka')\n",
    "plt.legend()\n",
    "\n",
    "plt.savefig('reg_długość_a_szerokość_płatka.png')\n",
    "plt.show()"
   ]
  },
  {
   "cell_type": "code",
   "execution_count": 9,
   "id": "ff1f4909-d0ff-42aa-8c4d-9fa6a77fb17a",
   "metadata": {
    "editable": true,
    "slideshow": {
     "slide_type": "fragment"
    },
    "tags": []
   },
   "outputs": [
    {
     "data": {
      "text/markdown": [
       "\n",
       "### Istnieje dodatnia korelacja (**0.96**) między długością a szerokością płatka.\n"
      ],
      "text/plain": [
       "<IPython.core.display.Markdown object>"
      ]
     },
     "execution_count": 9,
     "metadata": {},
     "output_type": "execute_result"
    }
   ],
   "source": [
    "correlation = df[[\"długość płatka\", \"szerokość płatka\"]].corr().iloc[0, 1]\n",
    "\n",
    "markdown_text = f\"\"\"\n",
    "### Istnieje dodatnia korelacja (**{correlation:.2f}**) między długością a szerokością płatka.\n",
    "\"\"\"\n",
    "\n",
    "Markdown(markdown_text)"
   ]
  },
  {
   "cell_type": "code",
   "execution_count": null,
   "id": "d596c249-17d8-4859-9b73-18dc26bd990b",
   "metadata": {
    "editable": true,
    "jupyter": {
     "source_hidden": true
    },
    "slideshow": {
     "slide_type": "skip"
    },
    "tags": []
   },
   "outputs": [],
   "source": [
    "sns.scatterplot(data=df, x=\"długość płatka\", y=\"szerokość płatka\", hue='gatunek')\n",
    "plt.show()"
   ]
  },
  {
   "cell_type": "code",
   "execution_count": null,
   "id": "50e05998-3f02-4a10-a67b-7d14155e58a6",
   "metadata": {
    "editable": true,
    "jupyter": {
     "source_hidden": true
    },
    "slideshow": {
     "slide_type": "skip"
    },
    "tags": []
   },
   "outputs": [],
   "source": [
    "df[[\"długość płatka\", \"szerokość płatka\"]].corr()"
   ]
  },
  {
   "cell_type": "code",
   "execution_count": 10,
   "id": "e989ce3f-9423-4a9d-8f9e-1d100c2fec7b",
   "metadata": {
    "editable": true,
    "slideshow": {
     "slide_type": "slide"
    },
    "tags": []
   },
   "outputs": [
    {
     "data": {
      "image/png": "[encoded data removed]",
      "text/plain": [
       "<Figure size 640x480 with 1 Axes>"
      ]
     },
     "metadata": {},
     "output_type": "display_data"
    }
   ],
   "source": [
    "kolory = {'Iris-setosa': 'skyblue', 'Iris-versicolor': 'lightcoral', 'Iris-virginica': 'mediumseagreen'}\n",
    "\n",
    "for gatunek in df['gatunek'].unique():\n",
    "    gatunek_df = df[df['gatunek'] == gatunek]\n",
    "    plt.scatter(gatunek_df['długość płatka'], gatunek_df['długość kielicha'], label=gatunek, color=kolory[gatunek])\n",
    "\n",
    "# Rysowanie linii regresji dla całego zbioru\n",
    "sns.regplot(x='długość płatka', y='długość kielicha', data=df, scatter=False, color='black')\n",
    "\n",
    "plt.title('Regresja liniowa między długością płatka a długością kielicha (wg gatunku)')\n",
    "plt.xlabel('długość płatka')\n",
    "plt.ylabel('długość kielicha')\n",
    "plt.legend()\n",
    "\n",
    "plt.savefig('reg_długość_kielicha_a_długość_płatka.png')\n",
    "plt.show()"
   ]
  },
  {
   "cell_type": "code",
   "execution_count": 11,
   "id": "12136c9c-08fe-4d02-99ce-8f1c3626038f",
   "metadata": {
    "editable": true,
    "slideshow": {
     "slide_type": "fragment"
    },
    "tags": []
   },
   "outputs": [
    {
     "data": {
      "text/markdown": [
       "\n",
       "### Istnieje dodatnia korelacja (**0.87**) między długością kielicha a długością płatka.\n"
      ],
      "text/plain": [
       "<IPython.core.display.Markdown object>"
      ]
     },
     "execution_count": 11,
     "metadata": {},
     "output_type": "execute_result"
    }
   ],
   "source": [
    "correlation = df[[\"długość kielicha\", \"długość płatka\"]].corr().iloc[0, 1]\n",
    "\n",
    "markdown_text = f\"\"\"\n",
    "### Istnieje dodatnia korelacja (**{correlation:.2f}**) między długością kielicha a długością płatka.\n",
    "\"\"\"\n",
    "\n",
    "Markdown(markdown_text)"
   ]
  },
  {
   "cell_type": "code",
   "execution_count": null,
   "id": "b29a32ec-bd57-4e54-acb2-aece7b77c3f0",
   "metadata": {
    "editable": true,
    "jupyter": {
     "source_hidden": true
    },
    "slideshow": {
     "slide_type": "skip"
    },
    "tags": []
   },
   "outputs": [],
   "source": [
    "sns.scatterplot(data=df, x=\"długość kielicha\", y=\"długość płatka\", hue='gatunek')\n",
    "plt.show()"
   ]
  },
  {
   "cell_type": "code",
   "execution_count": null,
   "id": "c611caf6-e252-4a2a-a9c5-9202d3e23b86",
   "metadata": {
    "editable": true,
    "jupyter": {
     "source_hidden": true
    },
    "slideshow": {
     "slide_type": "skip"
    },
    "tags": []
   },
   "outputs": [],
   "source": [
    "df[[\"długość kielicha\", \"długość płatka\"]].corr()"
   ]
  },
  {
   "cell_type": "code",
   "execution_count": null,
   "id": "fccdd16d-f4db-40d9-b867-d87b6b4089a5",
   "metadata": {
    "editable": true,
    "jupyter": {
     "source_hidden": true
    },
    "slideshow": {
     "slide_type": "skip"
    },
    "tags": []
   },
   "outputs": [],
   "source": [
    "sns.scatterplot(data=df, x=\"szerokość kielicha\", y=\"szerokość płatka\", hue='gatunek')\n",
    "plt.show()"
   ]
  },
  {
   "cell_type": "code",
   "execution_count": null,
   "id": "2f3a6f2f-4495-4514-a39c-842697025d68",
   "metadata": {
    "editable": true,
    "jupyter": {
     "source_hidden": true
    },
    "slideshow": {
     "slide_type": "skip"
    },
    "tags": []
   },
   "outputs": [],
   "source": [
    "df[[\"szerokość kielicha\", \"szerokość płatka\"]].corr()"
   ]
  },
  {
   "cell_type": "markdown",
   "id": "e3760ade-0435-4eee-b1a6-a982f7c97c26",
   "metadata": {
    "editable": true,
    "slideshow": {
     "slide_type": "slide"
    },
    "tags": []
   },
   "source": [
    "# **3. Podsumowanie**"
   ]
  },
  {
   "cell_type": "markdown",
   "id": "bb36dece-089f-4fa5-9e15-fd23752e7fa3",
   "metadata": {
    "editable": true,
    "slideshow": {
     "slide_type": "slide"
    },
    "tags": []
   },
   "source": [
    "1. Otrzymane dane są kompletne, zawierają pomiary **3 gatunków irysów** po **50 przypadków** każdy (łącznie próba liczy 150 obiektów).\n",
    "2. Spośród badanych gatunków **irys setosa** wyróżnia się **najdrobniejszymi płatkami kwiatów**, za to jego **kielich jest najszerszy**.\n",
    "3. Istnieje **dodatnia korelacja** między **długością a szerokością płatka**.\n",
    "4. Istnieje **dodatnia korelacja** między **długością kielicha a długością płatka**.\n",
    "5. **Próba** okazała się **wystarczająco liczna** do obliczeń **podstawowych statystyk**, które **zobrazowały różnice kwiatów** wybranych trzech gatunków irysów."
   ]
  },
  {
   "cell_type": "code",
   "execution_count": 12,
   "id": "3419644e-f081-43d4-8ba5-eb9eb9e6c6ef",
   "metadata": {
    "editable": true,
    "slideshow": {
     "slide_type": ""
    },
    "tags": []
   },
   "outputs": [
    {
     "name": "stderr",
     "output_type": "stream",
     "text": [
      "[NbConvertApp] Converting notebook iris.ipynb to html\n",
      "[NbConvertApp] WARNING | Alternative text is missing on 3 image(s).\n",
      "[NbConvertApp] Writing 453690 bytes to iris.html\n"
     ]
    }
   ],
   "source": [
    "!jupyter nbconvert iris.ipynb --to html --SkipSlideCellsPreprocessor.enabled=True --no-input --no-prompt"
   ]
  }
 ],
 "metadata": {
  "kernelspec": {
   "display_name": "Python 3 (ipykernel)",
   "language": "python",
   "name": "python3"
  },
  "language_info": {
   "codemirror_mode": {
    "name": "ipython",
    "version": 3
   },
   "file_extension": ".py",
   "mimetype": "text/x-python",
   "name": "python",
   "nbconvert_exporter": "python",
   "pygments_lexer": "ipython3",
   "version": "3.11.9"
  }
 },
 "nbformat": 4,
 "nbformat_minor": 5
}
